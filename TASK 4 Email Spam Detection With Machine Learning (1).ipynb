{
 "cells": [
  {
   "cell_type": "markdown",
   "id": "34aaebf4",
   "metadata": {},
   "source": [
    "# Email Spam Detection With Machine Learning"
   ]
  },
  {
   "cell_type": "markdown",
   "id": "e3afaeb2",
   "metadata": {
    "papermill": {
     "duration": 0.011532,
     "end_time": "2024-02-03T17:45:04.911522",
     "exception": false,
     "start_time": "2024-02-03T17:45:04.899990",
     "status": "completed"
    },
    "tags": []
   },
   "source": [
    "# Libraries"
   ]
  },
  {
   "cell_type": "code",
   "execution_count": 1,
   "id": "ae4a795a",
   "metadata": {
    "execution": {
     "iopub.execute_input": "2024-02-03T17:45:04.938231Z",
     "iopub.status.busy": "2024-02-03T17:45:04.937429Z",
     "iopub.status.idle": "2024-02-03T17:45:08.236996Z",
     "shell.execute_reply": "2024-02-03T17:45:08.235465Z"
    },
    "papermill": {
     "duration": 3.316283,
     "end_time": "2024-02-03T17:45:08.239856",
     "exception": false,
     "start_time": "2024-02-03T17:45:04.923573",
     "status": "completed"
    },
    "tags": []
   },
   "outputs": [],
   "source": [
    "import pandas as pd\n",
    "import numpy as np\n",
    "import matplotlib.pyplot as plt\n",
    "import seaborn as sns\n",
    "from sklearn.feature_extraction.text import TfidfVectorizer, CountVectorizer\n",
    "from sklearn.model_selection import train_test_split\n",
    "from sklearn.metrics import roc_auc_score, f1_score, confusion_matrix\n",
    "from sklearn.naive_bayes import MultinomialNB"
   ]
  },
  {
   "cell_type": "markdown",
   "id": "b4c73d65",
   "metadata": {
    "papermill": {
     "duration": 0.01168,
     "end_time": "2024-02-03T17:45:08.266494",
     "exception": false,
     "start_time": "2024-02-03T17:45:08.254814",
     "status": "completed"
    },
    "tags": []
   },
   "source": [
    "# Data Loading and Preprocessing:"
   ]
  },
  {
   "cell_type": "code",
   "execution_count": 2,
   "id": "5e101119",
   "metadata": {
    "execution": {
     "iopub.execute_input": "2024-02-03T17:45:08.293013Z",
     "iopub.status.busy": "2024-02-03T17:45:08.292149Z",
     "iopub.status.idle": "2024-02-03T17:45:08.388758Z",
     "shell.execute_reply": "2024-02-03T17:45:08.387628Z"
    },
    "papermill": {
     "duration": 0.112803,
     "end_time": "2024-02-03T17:45:08.391443",
     "exception": false,
     "start_time": "2024-02-03T17:45:08.278640",
     "status": "completed"
    },
    "tags": []
   },
   "outputs": [
    {
     "data": {
      "text/html": [
       "<div>\n",
       "<style scoped>\n",
       "    .dataframe tbody tr th:only-of-type {\n",
       "        vertical-align: middle;\n",
       "    }\n",
       "\n",
       "    .dataframe tbody tr th {\n",
       "        vertical-align: top;\n",
       "    }\n",
       "\n",
       "    .dataframe thead th {\n",
       "        text-align: right;\n",
       "    }\n",
       "</style>\n",
       "<table border=\"1\" class=\"dataframe\">\n",
       "  <thead>\n",
       "    <tr style=\"text-align: right;\">\n",
       "      <th></th>\n",
       "      <th>v1</th>\n",
       "      <th>v2</th>\n",
       "      <th>Unnamed: 2</th>\n",
       "      <th>Unnamed: 3</th>\n",
       "      <th>Unnamed: 4</th>\n",
       "    </tr>\n",
       "  </thead>\n",
       "  <tbody>\n",
       "    <tr>\n",
       "      <th>0</th>\n",
       "      <td>ham</td>\n",
       "      <td>Go until jurong point, crazy.. Available only ...</td>\n",
       "      <td>NaN</td>\n",
       "      <td>NaN</td>\n",
       "      <td>NaN</td>\n",
       "    </tr>\n",
       "    <tr>\n",
       "      <th>1</th>\n",
       "      <td>ham</td>\n",
       "      <td>Ok lar... Joking wif u oni...</td>\n",
       "      <td>NaN</td>\n",
       "      <td>NaN</td>\n",
       "      <td>NaN</td>\n",
       "    </tr>\n",
       "    <tr>\n",
       "      <th>2</th>\n",
       "      <td>spam</td>\n",
       "      <td>Free entry in 2 a wkly comp to win FA Cup fina...</td>\n",
       "      <td>NaN</td>\n",
       "      <td>NaN</td>\n",
       "      <td>NaN</td>\n",
       "    </tr>\n",
       "    <tr>\n",
       "      <th>3</th>\n",
       "      <td>ham</td>\n",
       "      <td>U dun say so early hor... U c already then say...</td>\n",
       "      <td>NaN</td>\n",
       "      <td>NaN</td>\n",
       "      <td>NaN</td>\n",
       "    </tr>\n",
       "    <tr>\n",
       "      <th>4</th>\n",
       "      <td>ham</td>\n",
       "      <td>Nah I don't think he goes to usf, he lives aro...</td>\n",
       "      <td>NaN</td>\n",
       "      <td>NaN</td>\n",
       "      <td>NaN</td>\n",
       "    </tr>\n",
       "  </tbody>\n",
       "</table>\n",
       "</div>"
      ],
      "text/plain": [
       "     v1                                                 v2 Unnamed: 2  \\\n",
       "0   ham  Go until jurong point, crazy.. Available only ...        NaN   \n",
       "1   ham                      Ok lar... Joking wif u oni...        NaN   \n",
       "2  spam  Free entry in 2 a wkly comp to win FA Cup fina...        NaN   \n",
       "3   ham  U dun say so early hor... U c already then say...        NaN   \n",
       "4   ham  Nah I don't think he goes to usf, he lives aro...        NaN   \n",
       "\n",
       "  Unnamed: 3 Unnamed: 4  \n",
       "0        NaN        NaN  \n",
       "1        NaN        NaN  \n",
       "2        NaN        NaN  \n",
       "3        NaN        NaN  \n",
       "4        NaN        NaN  "
      ]
     },
     "execution_count": 2,
     "metadata": {},
     "output_type": "execute_result"
    }
   ],
   "source": [
    "df = pd.read_csv(\"C:\\\\Users\\\\vipul\\\\OneDrive\\\\Desktop\\\\spam.csv\", encoding = 'ISO-8859-1')\n",
    "df.head()"
   ]
  },
  {
   "cell_type": "code",
   "execution_count": 3,
   "id": "ca9019e4",
   "metadata": {
    "execution": {
     "iopub.execute_input": "2024-02-03T17:45:08.418628Z",
     "iopub.status.busy": "2024-02-03T17:45:08.418022Z",
     "iopub.status.idle": "2024-02-03T17:45:08.435824Z",
     "shell.execute_reply": "2024-02-03T17:45:08.435035Z"
    },
    "papermill": {
     "duration": 0.033877,
     "end_time": "2024-02-03T17:45:08.437997",
     "exception": false,
     "start_time": "2024-02-03T17:45:08.404120",
     "status": "completed"
    },
    "tags": []
   },
   "outputs": [
    {
     "data": {
      "text/html": [
       "<div>\n",
       "<style scoped>\n",
       "    .dataframe tbody tr th:only-of-type {\n",
       "        vertical-align: middle;\n",
       "    }\n",
       "\n",
       "    .dataframe tbody tr th {\n",
       "        vertical-align: top;\n",
       "    }\n",
       "\n",
       "    .dataframe thead th {\n",
       "        text-align: right;\n",
       "    }\n",
       "</style>\n",
       "<table border=\"1\" class=\"dataframe\">\n",
       "  <thead>\n",
       "    <tr style=\"text-align: right;\">\n",
       "      <th></th>\n",
       "      <th>v1</th>\n",
       "      <th>v2</th>\n",
       "    </tr>\n",
       "  </thead>\n",
       "  <tbody>\n",
       "    <tr>\n",
       "      <th>0</th>\n",
       "      <td>ham</td>\n",
       "      <td>Go until jurong point, crazy.. Available only ...</td>\n",
       "    </tr>\n",
       "    <tr>\n",
       "      <th>1</th>\n",
       "      <td>ham</td>\n",
       "      <td>Ok lar... Joking wif u oni...</td>\n",
       "    </tr>\n",
       "    <tr>\n",
       "      <th>2</th>\n",
       "      <td>spam</td>\n",
       "      <td>Free entry in 2 a wkly comp to win FA Cup fina...</td>\n",
       "    </tr>\n",
       "    <tr>\n",
       "      <th>3</th>\n",
       "      <td>ham</td>\n",
       "      <td>U dun say so early hor... U c already then say...</td>\n",
       "    </tr>\n",
       "    <tr>\n",
       "      <th>4</th>\n",
       "      <td>ham</td>\n",
       "      <td>Nah I don't think he goes to usf, he lives aro...</td>\n",
       "    </tr>\n",
       "  </tbody>\n",
       "</table>\n",
       "</div>"
      ],
      "text/plain": [
       "     v1                                                 v2\n",
       "0   ham  Go until jurong point, crazy.. Available only ...\n",
       "1   ham                      Ok lar... Joking wif u oni...\n",
       "2  spam  Free entry in 2 a wkly comp to win FA Cup fina...\n",
       "3   ham  U dun say so early hor... U c already then say...\n",
       "4   ham  Nah I don't think he goes to usf, he lives aro..."
      ]
     },
     "execution_count": 3,
     "metadata": {},
     "output_type": "execute_result"
    }
   ],
   "source": [
    "df = df.drop(columns=df.columns[2:])\n",
    "df.head()"
   ]
  },
  {
   "cell_type": "code",
   "execution_count": 4,
   "id": "dd055ce5",
   "metadata": {
    "execution": {
     "iopub.execute_input": "2024-02-03T17:45:08.465071Z",
     "iopub.status.busy": "2024-02-03T17:45:08.464441Z",
     "iopub.status.idle": "2024-02-03T17:45:08.473642Z",
     "shell.execute_reply": "2024-02-03T17:45:08.472895Z"
    },
    "papermill": {
     "duration": 0.025306,
     "end_time": "2024-02-03T17:45:08.475853",
     "exception": false,
     "start_time": "2024-02-03T17:45:08.450547",
     "status": "completed"
    },
    "tags": []
   },
   "outputs": [
    {
     "data": {
      "text/html": [
       "<div>\n",
       "<style scoped>\n",
       "    .dataframe tbody tr th:only-of-type {\n",
       "        vertical-align: middle;\n",
       "    }\n",
       "\n",
       "    .dataframe tbody tr th {\n",
       "        vertical-align: top;\n",
       "    }\n",
       "\n",
       "    .dataframe thead th {\n",
       "        text-align: right;\n",
       "    }\n",
       "</style>\n",
       "<table border=\"1\" class=\"dataframe\">\n",
       "  <thead>\n",
       "    <tr style=\"text-align: right;\">\n",
       "      <th></th>\n",
       "      <th>Category</th>\n",
       "      <th>Message</th>\n",
       "    </tr>\n",
       "  </thead>\n",
       "  <tbody>\n",
       "    <tr>\n",
       "      <th>0</th>\n",
       "      <td>ham</td>\n",
       "      <td>Go until jurong point, crazy.. Available only ...</td>\n",
       "    </tr>\n",
       "    <tr>\n",
       "      <th>1</th>\n",
       "      <td>ham</td>\n",
       "      <td>Ok lar... Joking wif u oni...</td>\n",
       "    </tr>\n",
       "    <tr>\n",
       "      <th>2</th>\n",
       "      <td>spam</td>\n",
       "      <td>Free entry in 2 a wkly comp to win FA Cup fina...</td>\n",
       "    </tr>\n",
       "    <tr>\n",
       "      <th>3</th>\n",
       "      <td>ham</td>\n",
       "      <td>U dun say so early hor... U c already then say...</td>\n",
       "    </tr>\n",
       "    <tr>\n",
       "      <th>4</th>\n",
       "      <td>ham</td>\n",
       "      <td>Nah I don't think he goes to usf, he lives aro...</td>\n",
       "    </tr>\n",
       "  </tbody>\n",
       "</table>\n",
       "</div>"
      ],
      "text/plain": [
       "  Category                                            Message\n",
       "0      ham  Go until jurong point, crazy.. Available only ...\n",
       "1      ham                      Ok lar... Joking wif u oni...\n",
       "2     spam  Free entry in 2 a wkly comp to win FA Cup fina...\n",
       "3      ham  U dun say so early hor... U c already then say...\n",
       "4      ham  Nah I don't think he goes to usf, he lives aro..."
      ]
     },
     "execution_count": 4,
     "metadata": {},
     "output_type": "execute_result"
    }
   ],
   "source": [
    "df.columns = ['Category', 'Message']\n",
    "df.head()"
   ]
  },
  {
   "cell_type": "code",
   "execution_count": 5,
   "id": "435759f6",
   "metadata": {
    "execution": {
     "iopub.execute_input": "2024-02-03T17:45:08.503910Z",
     "iopub.status.busy": "2024-02-03T17:45:08.503510Z",
     "iopub.status.idle": "2024-02-03T17:45:08.512815Z",
     "shell.execute_reply": "2024-02-03T17:45:08.511914Z"
    },
    "papermill": {
     "duration": 0.025854,
     "end_time": "2024-02-03T17:45:08.514927",
     "exception": false,
     "start_time": "2024-02-03T17:45:08.489073",
     "status": "completed"
    },
    "tags": []
   },
   "outputs": [
    {
     "data": {
      "text/plain": [
       "Category    0\n",
       "Message     0\n",
       "dtype: int64"
      ]
     },
     "execution_count": 5,
     "metadata": {},
     "output_type": "execute_result"
    }
   ],
   "source": [
    "df.isnull().sum()"
   ]
  },
  {
   "cell_type": "code",
   "execution_count": 6,
   "id": "1f582721",
   "metadata": {
    "execution": {
     "iopub.execute_input": "2024-02-03T17:45:08.543906Z",
     "iopub.status.busy": "2024-02-03T17:45:08.542963Z",
     "iopub.status.idle": "2024-02-03T17:45:08.559005Z",
     "shell.execute_reply": "2024-02-03T17:45:08.557915Z"
    },
    "papermill": {
     "duration": 0.032843,
     "end_time": "2024-02-03T17:45:08.561581",
     "exception": false,
     "start_time": "2024-02-03T17:45:08.528738",
     "status": "completed"
    },
    "tags": []
   },
   "outputs": [
    {
     "data": {
      "text/plain": [
       "{False, True}"
      ]
     },
     "execution_count": 6,
     "metadata": {},
     "output_type": "execute_result"
    }
   ],
   "source": [
    "set(df.duplicated())"
   ]
  },
  {
   "cell_type": "code",
   "execution_count": 7,
   "id": "8bace81e",
   "metadata": {
    "execution": {
     "iopub.execute_input": "2024-02-03T17:45:08.590952Z",
     "iopub.status.busy": "2024-02-03T17:45:08.589946Z",
     "iopub.status.idle": "2024-02-03T17:45:08.600318Z",
     "shell.execute_reply": "2024-02-03T17:45:08.599114Z"
    },
    "papermill": {
     "duration": 0.02734,
     "end_time": "2024-02-03T17:45:08.602681",
     "exception": false,
     "start_time": "2024-02-03T17:45:08.575341",
     "status": "completed"
    },
    "tags": []
   },
   "outputs": [
    {
     "data": {
      "text/plain": [
       "403"
      ]
     },
     "execution_count": 7,
     "metadata": {},
     "output_type": "execute_result"
    }
   ],
   "source": [
    "df.duplicated().sum()"
   ]
  },
  {
   "cell_type": "code",
   "execution_count": 8,
   "id": "bd279083",
   "metadata": {
    "execution": {
     "iopub.execute_input": "2024-02-03T17:45:08.631842Z",
     "iopub.status.busy": "2024-02-03T17:45:08.631098Z",
     "iopub.status.idle": "2024-02-03T17:45:08.637586Z",
     "shell.execute_reply": "2024-02-03T17:45:08.636700Z"
    },
    "papermill": {
     "duration": 0.023577,
     "end_time": "2024-02-03T17:45:08.639750",
     "exception": false,
     "start_time": "2024-02-03T17:45:08.616173",
     "status": "completed"
    },
    "tags": []
   },
   "outputs": [],
   "source": [
    "df = df.drop_duplicates(subset=['Message'])"
   ]
  },
  {
   "cell_type": "code",
   "execution_count": 9,
   "id": "4c97dd60",
   "metadata": {
    "execution": {
     "iopub.execute_input": "2024-02-03T17:45:08.667999Z",
     "iopub.status.busy": "2024-02-03T17:45:08.667515Z",
     "iopub.status.idle": "2024-02-03T17:45:08.678795Z",
     "shell.execute_reply": "2024-02-03T17:45:08.677650Z"
    },
    "papermill": {
     "duration": 0.028578,
     "end_time": "2024-02-03T17:45:08.681515",
     "exception": false,
     "start_time": "2024-02-03T17:45:08.652937",
     "status": "completed"
    },
    "tags": []
   },
   "outputs": [
    {
     "data": {
      "text/plain": [
       "0"
      ]
     },
     "execution_count": 9,
     "metadata": {},
     "output_type": "execute_result"
    }
   ],
   "source": [
    "df.duplicated().sum()"
   ]
  },
  {
   "cell_type": "code",
   "execution_count": 10,
   "id": "225409b3",
   "metadata": {
    "execution": {
     "iopub.execute_input": "2024-02-03T17:45:08.712791Z",
     "iopub.status.busy": "2024-02-03T17:45:08.712360Z",
     "iopub.status.idle": "2024-02-03T17:45:08.723358Z",
     "shell.execute_reply": "2024-02-03T17:45:08.722224Z"
    },
    "papermill": {
     "duration": 0.028516,
     "end_time": "2024-02-03T17:45:08.725806",
     "exception": false,
     "start_time": "2024-02-03T17:45:08.697290",
     "status": "completed"
    },
    "tags": []
   },
   "outputs": [
    {
     "data": {
      "text/plain": [
       "{False}"
      ]
     },
     "execution_count": 10,
     "metadata": {},
     "output_type": "execute_result"
    }
   ],
   "source": [
    "set(df.duplicated())"
   ]
  },
  {
   "cell_type": "markdown",
   "id": "7aedc2f2",
   "metadata": {
    "papermill": {
     "duration": 0.013095,
     "end_time": "2024-02-03T17:45:08.752574",
     "exception": false,
     "start_time": "2024-02-03T17:45:08.739479",
     "status": "completed"
    },
    "tags": []
   },
   "source": [
    "# EDA and Visualization:\n",
    "\n"
   ]
  },
  {
   "cell_type": "code",
   "execution_count": 11,
   "id": "6880ee08",
   "metadata": {
    "execution": {
     "iopub.execute_input": "2024-02-03T17:45:08.781569Z",
     "iopub.status.busy": "2024-02-03T17:45:08.781138Z",
     "iopub.status.idle": "2024-02-03T17:45:08.809876Z",
     "shell.execute_reply": "2024-02-03T17:45:08.808462Z"
    },
    "papermill": {
     "duration": 0.046469,
     "end_time": "2024-02-03T17:45:08.812627",
     "exception": false,
     "start_time": "2024-02-03T17:45:08.766158",
     "status": "completed"
    },
    "tags": []
   },
   "outputs": [
    {
     "name": "stdout",
     "output_type": "stream",
     "text": [
      "<class 'pandas.core.frame.DataFrame'>\n",
      "Int64Index: 5169 entries, 0 to 5571\n",
      "Data columns (total 2 columns):\n",
      " #   Column    Non-Null Count  Dtype \n",
      "---  ------    --------------  ----- \n",
      " 0   Category  5169 non-null   object\n",
      " 1   Message   5169 non-null   object\n",
      "dtypes: object(2)\n",
      "memory usage: 121.1+ KB\n"
     ]
    }
   ],
   "source": [
    "df.info()"
   ]
  },
  {
   "cell_type": "code",
   "execution_count": 12,
   "id": "5c841ae6",
   "metadata": {
    "execution": {
     "iopub.execute_input": "2024-02-03T17:45:08.841849Z",
     "iopub.status.busy": "2024-02-03T17:45:08.841458Z",
     "iopub.status.idle": "2024-02-03T17:45:08.863572Z",
     "shell.execute_reply": "2024-02-03T17:45:08.862223Z"
    },
    "papermill": {
     "duration": 0.039732,
     "end_time": "2024-02-03T17:45:08.866172",
     "exception": false,
     "start_time": "2024-02-03T17:45:08.826440",
     "status": "completed"
    },
    "tags": []
   },
   "outputs": [
    {
     "data": {
      "text/html": [
       "<div>\n",
       "<style scoped>\n",
       "    .dataframe tbody tr th:only-of-type {\n",
       "        vertical-align: middle;\n",
       "    }\n",
       "\n",
       "    .dataframe tbody tr th {\n",
       "        vertical-align: top;\n",
       "    }\n",
       "\n",
       "    .dataframe thead th {\n",
       "        text-align: right;\n",
       "    }\n",
       "</style>\n",
       "<table border=\"1\" class=\"dataframe\">\n",
       "  <thead>\n",
       "    <tr style=\"text-align: right;\">\n",
       "      <th></th>\n",
       "      <th>count</th>\n",
       "      <th>unique</th>\n",
       "      <th>top</th>\n",
       "      <th>freq</th>\n",
       "    </tr>\n",
       "  </thead>\n",
       "  <tbody>\n",
       "    <tr>\n",
       "      <th>Category</th>\n",
       "      <td>5169</td>\n",
       "      <td>2</td>\n",
       "      <td>ham</td>\n",
       "      <td>4516</td>\n",
       "    </tr>\n",
       "    <tr>\n",
       "      <th>Message</th>\n",
       "      <td>5169</td>\n",
       "      <td>5169</td>\n",
       "      <td>Go until jurong point, crazy.. Available only ...</td>\n",
       "      <td>1</td>\n",
       "    </tr>\n",
       "  </tbody>\n",
       "</table>\n",
       "</div>"
      ],
      "text/plain": [
       "         count unique                                                top  freq\n",
       "Category  5169      2                                                ham  4516\n",
       "Message   5169   5169  Go until jurong point, crazy.. Available only ...     1"
      ]
     },
     "execution_count": 12,
     "metadata": {},
     "output_type": "execute_result"
    }
   ],
   "source": [
    "df.describe().T"
   ]
  },
  {
   "cell_type": "code",
   "execution_count": 13,
   "id": "baaf053f",
   "metadata": {
    "execution": {
     "iopub.execute_input": "2024-02-03T17:45:08.895549Z",
     "iopub.status.busy": "2024-02-03T17:45:08.895146Z",
     "iopub.status.idle": "2024-02-03T17:45:09.193921Z",
     "shell.execute_reply": "2024-02-03T17:45:09.192661Z"
    },
    "papermill": {
     "duration": 0.316453,
     "end_time": "2024-02-03T17:45:09.196541",
     "exception": false,
     "start_time": "2024-02-03T17:45:08.880088",
     "status": "completed"
    },
    "tags": []
   },
   "outputs": [
    {
     "data": {
      "image/png": "[encoded data removed]",
      "text/plain": [
       "<Figure size 576x432 with 1 Axes>"
      ]
     },
     "metadata": {
      "needs_background": "light"
     },
     "output_type": "display_data"
    }
   ],
   "source": [
    "# Count the number of messages in each category\n",
    "category_counts = df['Category'].value_counts().reset_index()\n",
    "category_counts.columns = ['Category', 'Count']\n",
    "\n",
    "# Create a bar plot using Seaborn\n",
    "plt.figure(figsize=(8, 6))\n",
    "sns.barplot(x='Category', y='Count', data=category_counts)\n",
    "plt.xlabel('Category')\n",
    "plt.ylabel('Count')\n",
    "plt.title('Message Category Distribution')\n",
    "\n",
    "# Add text with counts on the bars\n",
    "for i, count in enumerate(category_counts['Count']):\n",
    "    plt.text(i, count, str(count), ha='center', va='bottom')\n",
    "\n",
    "plt.show()\n"
   ]
  },
  {
   "cell_type": "markdown",
   "id": "b60e7dff",
   "metadata": {
    "papermill": {
     "duration": 0.021672,
     "end_time": "2024-02-03T17:45:12.276896",
     "exception": false,
     "start_time": "2024-02-03T17:45:12.255224",
     "status": "completed"
    },
    "tags": []
   },
   "source": [
    "# Label Encoding:\n",
    "\n"
   ]
  },
  {
   "cell_type": "code",
   "execution_count": 14,
   "id": "e3519e47",
   "metadata": {
    "execution": {
     "iopub.execute_input": "2024-02-03T17:45:12.324199Z",
     "iopub.status.busy": "2024-02-03T17:45:12.323761Z",
     "iopub.status.idle": "2024-02-03T17:45:12.342991Z",
     "shell.execute_reply": "2024-02-03T17:45:12.342137Z"
    },
    "papermill": {
     "duration": 0.046122,
     "end_time": "2024-02-03T17:45:12.345081",
     "exception": false,
     "start_time": "2024-02-03T17:45:12.298959",
     "status": "completed"
    },
    "tags": []
   },
   "outputs": [
    {
     "data": {
      "text/html": [
       "<div>\n",
       "<style scoped>\n",
       "    .dataframe tbody tr th:only-of-type {\n",
       "        vertical-align: middle;\n",
       "    }\n",
       "\n",
       "    .dataframe tbody tr th {\n",
       "        vertical-align: top;\n",
       "    }\n",
       "\n",
       "    .dataframe thead th {\n",
       "        text-align: right;\n",
       "    }\n",
       "</style>\n",
       "<table border=\"1\" class=\"dataframe\">\n",
       "  <thead>\n",
       "    <tr style=\"text-align: right;\">\n",
       "      <th></th>\n",
       "      <th>Category</th>\n",
       "      <th>Message</th>\n",
       "      <th>spam</th>\n",
       "    </tr>\n",
       "  </thead>\n",
       "  <tbody>\n",
       "    <tr>\n",
       "      <th>0</th>\n",
       "      <td>ham</td>\n",
       "      <td>Go until jurong point, crazy.. Available only ...</td>\n",
       "      <td>0</td>\n",
       "    </tr>\n",
       "    <tr>\n",
       "      <th>1</th>\n",
       "      <td>ham</td>\n",
       "      <td>Ok lar... Joking wif u oni...</td>\n",
       "      <td>0</td>\n",
       "    </tr>\n",
       "    <tr>\n",
       "      <th>2</th>\n",
       "      <td>spam</td>\n",
       "      <td>Free entry in 2 a wkly comp to win FA Cup fina...</td>\n",
       "      <td>1</td>\n",
       "    </tr>\n",
       "    <tr>\n",
       "      <th>3</th>\n",
       "      <td>ham</td>\n",
       "      <td>U dun say so early hor... U c already then say...</td>\n",
       "      <td>0</td>\n",
       "    </tr>\n",
       "    <tr>\n",
       "      <th>4</th>\n",
       "      <td>ham</td>\n",
       "      <td>Nah I don't think he goes to usf, he lives aro...</td>\n",
       "      <td>0</td>\n",
       "    </tr>\n",
       "    <tr>\n",
       "      <th>...</th>\n",
       "      <td>...</td>\n",
       "      <td>...</td>\n",
       "      <td>...</td>\n",
       "    </tr>\n",
       "    <tr>\n",
       "      <th>5567</th>\n",
       "      <td>spam</td>\n",
       "      <td>This is the 2nd time we have tried 2 contact u...</td>\n",
       "      <td>1</td>\n",
       "    </tr>\n",
       "    <tr>\n",
       "      <th>5568</th>\n",
       "      <td>ham</td>\n",
       "      <td>Will Ì_ b going to esplanade fr home?</td>\n",
       "      <td>0</td>\n",
       "    </tr>\n",
       "    <tr>\n",
       "      <th>5569</th>\n",
       "      <td>ham</td>\n",
       "      <td>Pity, * was in mood for that. So...any other s...</td>\n",
       "      <td>0</td>\n",
       "    </tr>\n",
       "    <tr>\n",
       "      <th>5570</th>\n",
       "      <td>ham</td>\n",
       "      <td>The guy did some bitching but I acted like i'd...</td>\n",
       "      <td>0</td>\n",
       "    </tr>\n",
       "    <tr>\n",
       "      <th>5571</th>\n",
       "      <td>ham</td>\n",
       "      <td>Rofl. Its true to its name</td>\n",
       "      <td>0</td>\n",
       "    </tr>\n",
       "  </tbody>\n",
       "</table>\n",
       "<p>5169 rows × 3 columns</p>\n",
       "</div>"
      ],
      "text/plain": [
       "     Category                                            Message  spam\n",
       "0         ham  Go until jurong point, crazy.. Available only ...     0\n",
       "1         ham                      Ok lar... Joking wif u oni...     0\n",
       "2        spam  Free entry in 2 a wkly comp to win FA Cup fina...     1\n",
       "3         ham  U dun say so early hor... U c already then say...     0\n",
       "4         ham  Nah I don't think he goes to usf, he lives aro...     0\n",
       "...       ...                                                ...   ...\n",
       "5567     spam  This is the 2nd time we have tried 2 contact u...     1\n",
       "5568      ham              Will Ì_ b going to esplanade fr home?     0\n",
       "5569      ham  Pity, * was in mood for that. So...any other s...     0\n",
       "5570      ham  The guy did some bitching but I acted like i'd...     0\n",
       "5571      ham                         Rofl. Its true to its name     0\n",
       "\n",
       "[5169 rows x 3 columns]"
      ]
     },
     "execution_count": 14,
     "metadata": {},
     "output_type": "execute_result"
    }
   ],
   "source": [
    "df['spam']= df['Category'].apply(lambda x: 1 if x=='spam' else 0)\n",
    "df"
   ]
  },
  {
   "cell_type": "markdown",
   "id": "157079df",
   "metadata": {
    "papermill": {
     "duration": 0.023013,
     "end_time": "2024-02-03T17:45:12.391143",
     "exception": false,
     "start_time": "2024-02-03T17:45:12.368130",
     "status": "completed"
    },
    "tags": []
   },
   "source": [
    "# Train-Test Split:\n",
    "\n"
   ]
  },
  {
   "cell_type": "code",
   "execution_count": 15,
   "id": "dc30704a",
   "metadata": {
    "execution": {
     "iopub.execute_input": "2024-02-03T17:45:12.438290Z",
     "iopub.status.busy": "2024-02-03T17:45:12.437588Z",
     "iopub.status.idle": "2024-02-03T17:45:12.444247Z",
     "shell.execute_reply": "2024-02-03T17:45:12.443062Z"
    },
    "papermill": {
     "duration": 0.0329,
     "end_time": "2024-02-03T17:45:12.446850",
     "exception": false,
     "start_time": "2024-02-03T17:45:12.413950",
     "status": "completed"
    },
    "tags": []
   },
   "outputs": [],
   "source": [
    "X_train, X_test, y_train, y_test = train_test_split(df['Message'],df['spam'], train_size=.8)"
   ]
  },
  {
   "cell_type": "markdown",
   "id": "e991bdf9",
   "metadata": {
    "papermill": {
     "duration": 0.022093,
     "end_time": "2024-02-03T17:45:12.491550",
     "exception": false,
     "start_time": "2024-02-03T17:45:12.469457",
     "status": "completed"
    },
    "tags": []
   },
   "source": [
    "# Feature Extraction (Count Vectorization):\n",
    "\n"
   ]
  },
  {
   "cell_type": "code",
   "execution_count": 16,
   "id": "32ae7c8a",
   "metadata": {
    "execution": {
     "iopub.execute_input": "2024-02-03T17:45:12.602128Z",
     "iopub.status.busy": "2024-02-03T17:45:12.601403Z",
     "iopub.status.idle": "2024-02-03T17:45:12.727983Z",
     "shell.execute_reply": "2024-02-03T17:45:12.726665Z"
    },
    "papermill": {
     "duration": 0.153977,
     "end_time": "2024-02-03T17:45:12.731017",
     "exception": false,
     "start_time": "2024-02-03T17:45:12.577040",
     "status": "completed"
    },
    "tags": []
   },
   "outputs": [],
   "source": [
    "from sklearn.feature_extraction.text import CountVectorizer\n",
    "featurizer = CountVectorizer()\n",
    "X_train_count = featurizer.fit_transform(X_train.values)"
   ]
  },
  {
   "cell_type": "code",
   "execution_count": 17,
   "id": "d28b0a98",
   "metadata": {
    "execution": {
     "iopub.execute_input": "2024-02-03T17:45:12.779521Z",
     "iopub.status.busy": "2024-02-03T17:45:12.779082Z",
     "iopub.status.idle": "2024-02-03T17:45:12.786267Z",
     "shell.execute_reply": "2024-02-03T17:45:12.785282Z"
    },
    "papermill": {
     "duration": 0.034147,
     "end_time": "2024-02-03T17:45:12.788547",
     "exception": false,
     "start_time": "2024-02-03T17:45:12.754400",
     "status": "completed"
    },
    "tags": []
   },
   "outputs": [
    {
     "data": {
      "text/plain": [
       "<4135x7640 sparse matrix of type '<class 'numpy.int64'>'\n",
       "\twith 54312 stored elements in Compressed Sparse Row format>"
      ]
     },
     "execution_count": 17,
     "metadata": {},
     "output_type": "execute_result"
    }
   ],
   "source": [
    "X_train_count"
   ]
  },
  {
   "cell_type": "markdown",
   "id": "86e5f8b2",
   "metadata": {
    "papermill": {
     "duration": 0.022529,
     "end_time": "2024-02-03T17:45:12.834088",
     "exception": false,
     "start_time": "2024-02-03T17:45:12.811559",
     "status": "completed"
    },
    "tags": []
   },
   "source": [
    "# Model Training:\n",
    "\n"
   ]
  },
  {
   "cell_type": "code",
   "execution_count": 18,
   "id": "aa3ddc3e",
   "metadata": {
    "execution": {
     "iopub.execute_input": "2024-02-03T17:45:12.881859Z",
     "iopub.status.busy": "2024-02-03T17:45:12.881114Z",
     "iopub.status.idle": "2024-02-03T17:45:12.899523Z",
     "shell.execute_reply": "2024-02-03T17:45:12.898175Z"
    },
    "papermill": {
     "duration": 0.045462,
     "end_time": "2024-02-03T17:45:12.902117",
     "exception": false,
     "start_time": "2024-02-03T17:45:12.856655",
     "status": "completed"
    },
    "tags": []
   },
   "outputs": [
    {
     "data": {
      "text/plain": [
       "MultinomialNB()"
      ]
     },
     "execution_count": 18,
     "metadata": {},
     "output_type": "execute_result"
    }
   ],
   "source": [
    "model = MultinomialNB()\n",
    "model.fit(X_train_count,y_train)"
   ]
  },
  {
   "cell_type": "code",
   "execution_count": 19,
   "id": "a3f05ecd",
   "metadata": {
    "execution": {
     "iopub.execute_input": "2024-02-03T17:45:12.951101Z",
     "iopub.status.busy": "2024-02-03T17:45:12.950377Z",
     "iopub.status.idle": "2024-02-03T17:45:12.959543Z",
     "shell.execute_reply": "2024-02-03T17:45:12.958603Z"
    },
    "papermill": {
     "duration": 0.036632,
     "end_time": "2024-02-03T17:45:12.961919",
     "exception": false,
     "start_time": "2024-02-03T17:45:12.925287",
     "status": "completed"
    },
    "tags": []
   },
   "outputs": [
    {
     "data": {
      "text/plain": [
       "array([0, 1], dtype=int64)"
      ]
     },
     "execution_count": 19,
     "metadata": {},
     "output_type": "execute_result"
    }
   ],
   "source": [
    "emails = [\n",
    "    'Hey Mohamed, can we get together to watch football game tomorrow?',\n",
    "    'Upto 20% discount on parking, exclusive offer just for you. Dont miss this reward!'\n",
    "]\n",
    "emails_count = featurizer.transform(emails)\n",
    "model.predict(emails_count)"
   ]
  },
  {
   "cell_type": "code",
   "execution_count": 20,
   "id": "94bbebd2",
   "metadata": {
    "execution": {
     "iopub.execute_input": "2024-02-03T17:45:13.011591Z",
     "iopub.status.busy": "2024-02-03T17:45:13.011160Z",
     "iopub.status.idle": "2024-02-03T17:45:13.046337Z",
     "shell.execute_reply": "2024-02-03T17:45:13.045078Z"
    },
    "papermill": {
     "duration": 0.063493,
     "end_time": "2024-02-03T17:45:13.049163",
     "exception": false,
     "start_time": "2024-02-03T17:45:12.985670",
     "status": "completed"
    },
    "tags": []
   },
   "outputs": [
    {
     "data": {
      "text/plain": [
       "0.9758220502901354"
      ]
     },
     "execution_count": 20,
     "metadata": {},
     "output_type": "execute_result"
    }
   ],
   "source": [
    "X_test_count = featurizer.transform(X_test)\n",
    "model.score(X_test_count, y_test)"
   ]
  },
  {
   "cell_type": "markdown",
   "id": "500326e1",
   "metadata": {
    "papermill": {
     "duration": 0.023522,
     "end_time": "2024-02-03T17:45:13.096155",
     "exception": false,
     "start_time": "2024-02-03T17:45:13.072633",
     "status": "completed"
    },
    "tags": []
   },
   "source": [
    "# Building a Pipeline:\n",
    "\n"
   ]
  },
  {
   "cell_type": "code",
   "execution_count": 21,
   "id": "1aa530f2",
   "metadata": {
    "execution": {
     "iopub.execute_input": "2024-02-03T17:45:13.145126Z",
     "iopub.status.busy": "2024-02-03T17:45:13.144680Z",
     "iopub.status.idle": "2024-02-03T17:45:13.159302Z",
     "shell.execute_reply": "2024-02-03T17:45:13.158063Z"
    },
    "papermill": {
     "duration": 0.042703,
     "end_time": "2024-02-03T17:45:13.162281",
     "exception": false,
     "start_time": "2024-02-03T17:45:13.119578",
     "status": "completed"
    },
    "tags": []
   },
   "outputs": [],
   "source": [
    "from sklearn.pipeline import Pipeline\n",
    "clf = Pipeline([\n",
    "    ('vectorizer', CountVectorizer()),\n",
    "    ('nb', MultinomialNB())\n",
    "])"
   ]
  },
  {
   "cell_type": "markdown",
   "id": "fd8c7903",
   "metadata": {
    "papermill": {
     "duration": 0.023925,
     "end_time": "2024-02-03T17:45:13.209826",
     "exception": false,
     "start_time": "2024-02-03T17:45:13.185901",
     "status": "completed"
    },
    "tags": []
   },
   "source": [
    "## Evaluating the Pipeline:\n",
    "\n"
   ]
  },
  {
   "cell_type": "code",
   "execution_count": 22,
   "id": "7f8575e0",
   "metadata": {
    "execution": {
     "iopub.execute_input": "2024-02-03T17:45:13.260409Z",
     "iopub.status.busy": "2024-02-03T17:45:13.259594Z",
     "iopub.status.idle": "2024-02-03T17:45:13.392600Z",
     "shell.execute_reply": "2024-02-03T17:45:13.391451Z"
    },
    "papermill": {
     "duration": 0.16187,
     "end_time": "2024-02-03T17:45:13.395393",
     "exception": false,
     "start_time": "2024-02-03T17:45:13.233523",
     "status": "completed"
    },
    "tags": []
   },
   "outputs": [
    {
     "data": {
      "text/plain": [
       "Pipeline(steps=[('vectorizer', CountVectorizer()), ('nb', MultinomialNB())])"
      ]
     },
     "execution_count": 22,
     "metadata": {},
     "output_type": "execute_result"
    }
   ],
   "source": [
    "clf.fit(X_train, y_train)"
   ]
  },
  {
   "cell_type": "markdown",
   "id": "c5bdbf81",
   "metadata": {
    "papermill": {
     "duration": 0.023445,
     "end_time": "2024-02-03T17:45:13.442573",
     "exception": false,
     "start_time": "2024-02-03T17:45:13.419128",
     "status": "completed"
    },
    "tags": []
   },
   "source": [
    "### Making Predictions with the Pipeline:\n",
    "\n"
   ]
  },
  {
   "cell_type": "code",
   "execution_count": 23,
   "id": "f30224a3",
   "metadata": {
    "execution": {
     "iopub.execute_input": "2024-02-03T17:45:13.492695Z",
     "iopub.status.busy": "2024-02-03T17:45:13.491688Z",
     "iopub.status.idle": "2024-02-03T17:45:13.525217Z",
     "shell.execute_reply": "2024-02-03T17:45:13.523913Z"
    },
    "papermill": {
     "duration": 0.061654,
     "end_time": "2024-02-03T17:45:13.528418",
     "exception": false,
     "start_time": "2024-02-03T17:45:13.466764",
     "status": "completed"
    },
    "tags": []
   },
   "outputs": [
    {
     "data": {
      "text/plain": [
       "0.9758220502901354"
      ]
     },
     "execution_count": 23,
     "metadata": {},
     "output_type": "execute_result"
    }
   ],
   "source": [
    "clf.score(X_test,y_test)"
   ]
  },
  {
   "cell_type": "code",
   "execution_count": 24,
   "id": "ef32905e",
   "metadata": {
    "execution": {
     "iopub.execute_input": "2024-02-03T17:45:13.578718Z",
     "iopub.status.busy": "2024-02-03T17:45:13.578297Z",
     "iopub.status.idle": "2024-02-03T17:45:13.585345Z",
     "shell.execute_reply": "2024-02-03T17:45:13.584544Z"
    },
    "papermill": {
     "duration": 0.034661,
     "end_time": "2024-02-03T17:45:13.587445",
     "exception": false,
     "start_time": "2024-02-03T17:45:13.552784",
     "status": "completed"
    },
    "tags": []
   },
   "outputs": [
    {
     "data": {
      "text/plain": [
       "array([0, 1], dtype=int64)"
      ]
     },
     "execution_count": 24,
     "metadata": {},
     "output_type": "execute_result"
    }
   ],
   "source": [
    "clf.predict(emails)"
   ]
  },
  {
   "cell_type": "markdown",
   "id": "17f787a8",
   "metadata": {
    "papermill": {
     "duration": 0.024153,
     "end_time": "2024-02-03T17:45:13.635499",
     "exception": false,
     "start_time": "2024-02-03T17:45:13.611346",
     "status": "completed"
    },
    "tags": []
   },
   "source": [
    "# Confusion Matrix Visualization:"
   ]
  },
  {
   "cell_type": "code",
   "execution_count": 25,
   "id": "0461c49a",
   "metadata": {
    "execution": {
     "iopub.execute_input": "2024-02-03T17:45:13.686341Z",
     "iopub.status.busy": "2024-02-03T17:45:13.685315Z",
     "iopub.status.idle": "2024-02-03T17:45:13.923045Z",
     "shell.execute_reply": "2024-02-03T17:45:13.921886Z"
    },
    "papermill": {
     "duration": 0.265864,
     "end_time": "2024-02-03T17:45:13.925407",
     "exception": false,
     "start_time": "2024-02-03T17:45:13.659543",
     "status": "completed"
    },
    "tags": []
   },
   "outputs": [
    {
     "data": {
      "image/png": "[encoded data removed]",
      "text/plain": [
       "<Figure size 576x432 with 2 Axes>"
      ]
     },
     "metadata": {
      "needs_background": "light"
     },
     "output_type": "display_data"
    }
   ],
   "source": [
    "y_pred = model.predict(X_test_count)\n",
    "\n",
    "# Create a confusion matrix\n",
    "conf_matrix = confusion_matrix(y_test, y_pred)\n",
    "\n",
    "plt.figure(figsize=(8, 6))\n",
    "sns.heatmap(conf_matrix, annot=True, fmt='d', cmap='Blues', xticklabels=['Ham', 'Spam'], yticklabels=['Ham', 'Spam'])\n",
    "plt.xlabel('Predicted')\n",
    "plt.ylabel('Actual')\n",
    "plt.title('Confusion Matrix')\n",
    "plt.show()\n"
   ]
  },
  {
   "cell_type": "code",
   "execution_count": null,
   "id": "85d8d0d5",
   "metadata": {
    "papermill": {
     "duration": 0.024798,
     "end_time": "2024-02-03T17:45:13.974854",
     "exception": false,
     "start_time": "2024-02-03T17:45:13.950056",
     "status": "completed"
    },
    "tags": []
   },
   "outputs": [],
   "source": []
  }
 ],
 "metadata": {
  "kaggle": {
   "accelerator": "none",
   "dataSources": [
    {
     "datasetId": 483,
     "sourceId": 982,
     "sourceType": "datasetVersion"
    }
   ],
   "dockerImageVersionId": 30558,
   "isGpuEnabled": false,
   "isInternetEnabled": true,
   "language": "python",
   "sourceType": "notebook"
  },
  "kernelspec": {
   "display_name": "Python 3 (ipykernel)",
   "language": "python",
   "name": "python3"
  },
  "language_info": {
   "codemirror_mode": {
    "name": "ipython",
    "version": 3
   },
   "file_extension": ".py",
   "mimetype": "text/x-python",
   "name": "python",
   "nbconvert_exporter": "python",
   "pygments_lexer": "ipython3",
   "version": "3.9.7"
  },
  "papermill": {
   "default_parameters": {},
   "duration": 14.237188,
   "end_time": "2024-02-03T17:45:14.621144",
   "environment_variables": {},
   "exception": null,
   "input_path": "__notebook__.ipynb",
   "output_path": "__notebook__.ipynb",
   "parameters": {},
   "start_time": "2024-02-03T17:45:00.383956",
   "version": "2.4.0"
  }
 },
 "nbformat": 4,
 "nbformat_minor": 5
}
